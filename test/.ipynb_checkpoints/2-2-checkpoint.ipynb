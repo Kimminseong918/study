{
 "cells": [
  {
   "cell_type": "code",
   "execution_count": 1,
   "id": "2f855add",
   "metadata": {},
   "outputs": [
    {
     "data": {
      "text/plain": [
       "(91335, 39)"
      ]
     },
     "execution_count": 1,
     "metadata": {},
     "output_type": "execute_result"
    }
   ],
   "source": [
    "import pandas as pd\n",
    "df = pd.read_csv(\"https://raw.githubusercontent.com/corazzon/boostcourse-ds-510/master/data/medical_201909.csv.zip\", low_memory=False)\n",
    "\n",
    "df.shape"
   ]
  },
  {
   "cell_type": "code",
   "execution_count": 11,
   "id": "26bcd61e",
   "metadata": {},
   "outputs": [
    {
     "name": "stdout",
     "output_type": "stream",
     "text": [
      "<bound method Series.to_string of 경기도        992\n",
      "서울특별시      557\n",
      "인천광역시      193\n",
      "경상북도       165\n",
      "경상남도       161\n",
      "부산광역시      153\n",
      "충청남도       131\n",
      "대구광역시      119\n",
      "전라북도       111\n",
      "강원도         85\n",
      "대전광역시       77\n",
      "전라남도        77\n",
      "충청북도        75\n",
      "광주광역시       71\n",
      "울산광역시       61\n",
      "제주특별자치도     46\n",
      "세종특별자치시     13\n",
      "Name: 시도명, dtype: int64>\n"
     ]
    }
   ],
   "source": [
    "df_animal=df[df[\"상권업종소분류명\"]==\"동물병원\"]\n",
    "df_animal2=df_animal[\"시도명\"].value_counts().sort_values(ascending=False)\n",
    "print(df_animal2.to_string)"
   ]
  }
 ],
 "metadata": {
  "kernelspec": {
   "display_name": "Python 3 (ipykernel)",
   "language": "python",
   "name": "python3"
  },
  "language_info": {
   "codemirror_mode": {
    "name": "ipython",
    "version": 3
   },
   "file_extension": ".py",
   "mimetype": "text/x-python",
   "name": "python",
   "nbconvert_exporter": "python",
   "pygments_lexer": "ipython3",
   "version": "3.10.2"
  }
 },
 "nbformat": 4,
 "nbformat_minor": 5
}
