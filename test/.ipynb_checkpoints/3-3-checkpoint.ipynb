{
 "cells": [
  {
   "cell_type": "code",
   "execution_count": 1,
   "id": "d268b0ae",
   "metadata": {},
   "outputs": [],
   "source": [
    "import pandas as pd\n",
    "import numpy as np\n",
    "import seaborn as sns\n",
    "import matplotlib.pyplot as plt\n",
    "\n",
    "%matplotlib inline\n",
    "\n",
    "import os\n",
    "\n",
    "if os.name == 'posix':\n",
    "\n",
    "    plt.rc(\"font\", family=\"AppleGothic\")\n",
    "\n",
    "else:\n",
    "    plt.rc(\"font\", family=\"Malgun Gothic\")\n",
    "    \n",
    "plt.rc(\"axes\", unicode_minus=False)\n",
    "\n",
    "# df = pd.read_csv(\"boostcourse-ds-510/data/NHIS_OPEN_GJ_2017.CSV.zip\", encoding=\"cp949\")\n",
    "df = pd.read_csv(\"https://raw.githubusercontent.com/corazzon/boostcourse-ds-510/master/data/NHIS_OPEN_GJ_2017.CSV.zip\",\n",
    "                 encoding=\"cp949\")"
   ]
  },
  {
   "cell_type": "code",
   "execution_count": 4,
   "id": "5b67441e",
   "metadata": {},
   "outputs": [],
   "source": [
    "# 흡연 1(피우지 않는다), 2(이전에 피웠으나 끊었다), 3(현재도 피우고 있다)\n",
    "# 음주 0(마시지 않은다), 1(마신다)\n",
    "smoke = {1 : \"흡연안함\", 2: \"끊음\", 3: \"흡연중\"}\n",
    "drink = {0: \"안마심\", 1: \"마심\"}\n",
    "\n",
    "# df[\"흡연\"]\n",
    "# df[\"음주\"]"
   ]
  },
  {
   "cell_type": "code",
   "execution_count": 15,
   "id": "c3b4c3af",
   "metadata": {},
   "outputs": [],
   "source": [
    "df[\"흡연\"]=df[\"흡연상태\"].replace(smoke)\n",
    "df[\"음주\"]=df[\"음주여부\"].replace(drink)"
   ]
  },
  {
   "cell_type": "code",
   "execution_count": 23,
   "id": "c27c70c6",
   "metadata": {},
   "outputs": [
    {
     "data": {
      "text/html": [
       "<div>\n",
       "<style scoped>\n",
       "    .dataframe tbody tr th:only-of-type {\n",
       "        vertical-align: middle;\n",
       "    }\n",
       "\n",
       "    .dataframe tbody tr th {\n",
       "        vertical-align: top;\n",
       "    }\n",
       "\n",
       "    .dataframe thead th {\n",
       "        text-align: right;\n",
       "    }\n",
       "</style>\n",
       "<table border=\"1\" class=\"dataframe\">\n",
       "  <thead>\n",
       "    <tr style=\"text-align: right;\">\n",
       "      <th>흡연</th>\n",
       "      <th>끊음</th>\n",
       "      <th>흡연안함</th>\n",
       "      <th>흡연중</th>\n",
       "    </tr>\n",
       "    <tr>\n",
       "      <th>음주</th>\n",
       "      <th></th>\n",
       "      <th></th>\n",
       "      <th></th>\n",
       "    </tr>\n",
       "  </thead>\n",
       "  <tbody>\n",
       "    <tr>\n",
       "      <th>마심</th>\n",
       "      <td>120779</td>\n",
       "      <td>213743</td>\n",
       "      <td>162166</td>\n",
       "    </tr>\n",
       "    <tr>\n",
       "      <th>안마심</th>\n",
       "      <td>55334</td>\n",
       "      <td>394503</td>\n",
       "      <td>52845</td>\n",
       "    </tr>\n",
       "  </tbody>\n",
       "</table>\n",
       "</div>"
      ],
      "text/plain": [
       "흡연       끊음    흡연안함     흡연중\n",
       "음주                         \n",
       "마심   120779  213743  162166\n",
       "안마심   55334  394503   52845"
      ]
     },
     "execution_count": 23,
     "metadata": {},
     "output_type": "execute_result"
    }
   ],
   "source": [
    "df.pivot_table(index=\"음주\", columns=\"흡연\", values=\"가입자일련번호\", aggfunc=\"count\")"
   ]
  },
  {
   "cell_type": "code",
   "execution_count": 24,
   "id": "4e160b4a",
   "metadata": {},
   "outputs": [
    {
     "data": {
      "text/plain": [
       "<Axes: xlabel='흡연', ylabel='count'>"
      ]
     },
     "execution_count": 24,
     "metadata": {},
     "output_type": "execute_result"
    },
    {
     "data": {
      "image/png": "[encoded data removed]",
      "text/plain": [
       "<Figure size 640x480 with 1 Axes>"
      ]
     },
     "metadata": {},
     "output_type": "display_data"
    }
   ],
   "source": [
    "sns.countplot(data=df, x=\"흡연\", hue=\"음주\")"
   ]
  }
 ],
 "metadata": {
  "kernelspec": {
   "display_name": "Python 3 (ipykernel)",
   "language": "python",
   "name": "python3"
  },
  "language_info": {
   "codemirror_mode": {
    "name": "ipython",
    "version": 3
   },
   "file_extension": ".py",
   "mimetype": "text/x-python",
   "name": "python",
   "nbconvert_exporter": "python",
   "pygments_lexer": "ipython3",
   "version": "3.10.2"
  }
 },
 "nbformat": 4,
 "nbformat_minor": 5
}
