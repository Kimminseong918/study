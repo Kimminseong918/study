{
 "cells": [
  {
   "cell_type": "code",
   "execution_count": 2,
   "id": "1d00415b",
   "metadata": {},
   "outputs": [],
   "source": [
    "import pandas as pd\n",
    "import numpy as np\n",
    "import seaborn as sns\n",
    "import matplotlib.pyplot as plt\n",
    "\n",
    "\n",
    "import koreanize_matplotlib\n",
    "\n",
    "df = pd.read_csv(\n",
    "    \"https://raw.githubusercontent.com/corazzon/boostcourse-ds-510/master/data/online_oversea_sale_202210.csv.zip\", \n",
    "    encoding=\"cp949\")"
   ]
  },
  {
   "cell_type": "code",
   "execution_count": 4,
   "id": "b859ea69",
   "metadata": {},
   "outputs": [],
   "source": [
    "df[\"연도\"] = df[\"시점\"].apply(lambda x: x.split('.')[0])\n",
    "df[\"연도\"]=df[\"연도\"].astype(int)\n",
    "\n",
    "df[\"분기\"] = df[\"시점\"].apply(lambda x: x.split('.')[1][:1])\n",
    "df[\"분기\"] = df[\"분기\"].astype(int)\n"
   ]
  },
  {
   "cell_type": "code",
   "execution_count": null,
   "id": "c9c25e20",
   "metadata": {},
   "outputs": [],
   "source": []
  }
 ],
 "metadata": {
  "kernelspec": {
   "display_name": "Python 3 (ipykernel)",
   "language": "python",
   "name": "python3"
  },
  "language_info": {
   "codemirror_mode": {
    "name": "ipython",
    "version": 3
   },
   "file_extension": ".py",
   "mimetype": "text/x-python",
   "name": "python",
   "nbconvert_exporter": "python",
   "pygments_lexer": "ipython3",
   "version": "3.10.2"
  }
 },
 "nbformat": 4,
 "nbformat_minor": 5
}
